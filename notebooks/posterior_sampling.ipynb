{
 "cells": [
  {
   "cell_type": "code",
   "execution_count": null,
   "id": "81c0a991",
   "metadata": {},
   "outputs": [],
   "source": [
    "%matplotlib notebook\n",
    "%config Completer.use_jedi = False"
   ]
  },
  {
   "cell_type": "code",
   "execution_count": null,
   "id": "a56750df",
   "metadata": {},
   "outputs": [],
   "source": [
    "import numpy as np\n",
    "import os\n",
    "import pandas as pd\n",
    "import sys\n",
    "\n",
    "sys.path.append('..')\n",
    "\n",
    "import cogwheel\n",
    "from cogwheel import parameter_estimation"
   ]
  },
  {
   "cell_type": "code",
   "execution_count": null,
   "id": "ac46a8e0",
   "metadata": {},
   "outputs": [],
   "source": [
    "eventname = 'GW151226'\n",
    "approximant = 'IMRPhenomXPHM'\n",
    "prior_class = 'IASPrior'  # See `cogwheel.prior.prior_registry` for options\n",
    "outdir = f'precessing_{eventname}'"
   ]
  },
  {
   "cell_type": "markdown",
   "id": "ed1afe12",
   "metadata": {},
   "source": [
    "## Set up `Posterior` object\n",
    "First time compute and save to `json`. This finds a relative binning solution and takes a minute."
   ]
  },
  {
   "cell_type": "code",
   "execution_count": null,
   "id": "a42a6579",
   "metadata": {},
   "outputs": [],
   "source": [
    "# (Use `parameter_estimation.Posterior` instead if you don't want folding)\n",
    "post = parameter_estimation.FoldedInclinationAndAzimuthPosterior.from_event(\n",
    "    eventname, approximant, prior_class)\n",
    "\n",
    "post.to_json('precessing_GW151226')"
   ]
  },
  {
   "cell_type": "markdown",
   "id": "674c05df",
   "metadata": {},
   "source": [
    "... next time you can just load this:"
   ]
  },
  {
   "cell_type": "code",
   "execution_count": null,
   "id": "dcd34ff0",
   "metadata": {},
   "outputs": [],
   "source": [
    "post = parameter_estimation.read_json(\n",
    "    os.path.join(outdir, f'Posterior_{eventname}.json'))"
   ]
  },
  {
   "cell_type": "markdown",
   "id": "e70fd89e",
   "metadata": {},
   "source": [
    "## Run PyMultinest"
   ]
  },
  {
   "cell_type": "code",
   "execution_count": null,
   "id": "02860615",
   "metadata": {},
   "outputs": [],
   "source": [
    "pym = parameter_estimation.PyMultinest(post)"
   ]
  },
  {
   "cell_type": "code",
   "execution_count": null,
   "id": "01785091",
   "metadata": {
    "scrolled": true
   },
   "outputs": [],
   "source": [
    "pym.run_pymultinest(outdir, n_live_points=2000)"
   ]
  },
  {
   "cell_type": "markdown",
   "id": "3651a670",
   "metadata": {},
   "source": [
    "## Plot samples"
   ]
  },
  {
   "cell_type": "code",
   "execution_count": null,
   "id": "1bb6c5e1",
   "metadata": {},
   "outputs": [],
   "source": [
    "samples = pd.DataFrame(np.loadtxt(f'{outdir}/post_equal_weights.dat')[:, :-1],\n",
    "                       columns=post.prior.sampled_params)"
   ]
  },
  {
   "cell_type": "code",
   "execution_count": null,
   "id": "ca2fd002",
   "metadata": {},
   "outputs": [],
   "source": [
    "sys.path.append('../../gw_detection_ias/pop_inference/')\n",
    "import grid as gd"
   ]
  },
  {
   "cell_type": "code",
   "execution_count": null,
   "id": "e56605f2",
   "metadata": {
    "scrolled": false
   },
   "outputs": [],
   "source": [
    "gd.Grid.from_samples(list(samples), samples).corner_plot(figsize=(10, 10));"
   ]
  }
 ],
 "metadata": {
  "kernelspec": {
   "display_name": "Python 3",
   "language": "python",
   "name": "python3"
  },
  "language_info": {
   "codemirror_mode": {
    "name": "ipython",
    "version": 3
   },
   "file_extension": ".py",
   "mimetype": "text/x-python",
   "name": "python",
   "nbconvert_exporter": "python",
   "pygments_lexer": "ipython3",
   "version": "3.8.5"
  }
 },
 "nbformat": 4,
 "nbformat_minor": 5
}
