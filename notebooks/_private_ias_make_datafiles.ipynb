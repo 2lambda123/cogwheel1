{
 "cells": [
  {
   "cell_type": "markdown",
   "id": "da429be8",
   "metadata": {},
   "source": [
    "# Generate `EventData` files\n",
    "using the pipeline's `TriggerList`s and the `cogwheel._private_ias` module"
   ]
  },
  {
   "cell_type": "code",
   "execution_count": 1,
   "id": "911de395",
   "metadata": {},
   "outputs": [],
   "source": [
    "import sys\n",
    "sys.path.append('..')\n",
    "\n",
    "from cogwheel import _private_ias"
   ]
  },
  {
   "cell_type": "code",
   "execution_count": 2,
   "id": "938983b3",
   "metadata": {},
   "outputs": [],
   "source": [
    "eventname = 'GW151226'"
   ]
  },
  {
   "cell_type": "code",
   "execution_count": 3,
   "id": "88cc0089",
   "metadata": {},
   "outputs": [],
   "source": [
    "event_metadata = _private_ias.event_registry[eventname]"
   ]
  },
  {
   "cell_type": "code",
   "execution_count": 4,
   "id": "487cb536",
   "metadata": {},
   "outputs": [
    {
     "name": "stderr",
     "output_type": "stream",
     "text": [
      "/home/jroulet/anaconda3/envs/lal/lib/python3.8/site-packages/numpy/core/_asarray.py:83: VisibleDeprecationWarning: Creating an ndarray from ragged nested sequences (which is a list-or-tuple of lists-or-tuples-or ndarrays with different lengths or shapes) is deprecated. If you meant to do this, you must specify 'dtype=object' when creating the ndarray\n",
      "  return array(a, dtype, copy=False, order=order)\n"
     ]
    }
   ],
   "source": [
    "event_data = event_metadata.get_event_data()"
   ]
  },
  {
   "cell_type": "markdown",
   "id": "4720c5f1",
   "metadata": {},
   "source": [
    "Save to `npz`. This file can go to the repo so people without access to the pipeline can still use the code."
   ]
  },
  {
   "cell_type": "code",
   "execution_count": 5,
   "id": "d008d0b4",
   "metadata": {},
   "outputs": [],
   "source": [
    "event_data.to_npz()"
   ]
  }
 ],
 "metadata": {
  "kernelspec": {
   "display_name": "Python 3",
   "language": "python",
   "name": "python3"
  },
  "language_info": {
   "codemirror_mode": {
    "name": "ipython",
    "version": 3
   },
   "file_extension": ".py",
   "mimetype": "text/x-python",
   "name": "python",
   "nbconvert_exporter": "python",
   "pygments_lexer": "ipython3",
   "version": "3.8.6"
  }
 },
 "nbformat": 4,
 "nbformat_minor": 5
}
