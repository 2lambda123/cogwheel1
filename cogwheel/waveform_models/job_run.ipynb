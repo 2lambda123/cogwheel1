{
 "cells": [
  {
   "cell_type": "code",
   "execution_count": 28,
   "id": "d9a6dbcb",
   "metadata": {},
   "outputs": [
    {
     "name": "stdout",
     "output_type": "stream",
     "text": [
      "Submitted batch job 4260043\n"
     ]
    },
    {
     "data": {
      "text/plain": [
       "CompletedProcess(args=['sbatch', 'job_submit.sh', 'PE_Run_PhenomD.py', 'GW190412'], returncode=0)"
      ]
     },
     "execution_count": 28,
     "metadata": {},
     "output_type": "execute_result"
    }
   ],
   "source": [
    "import os\n",
    "import subprocess\n",
    "import pandas as pd\n",
    "\n",
    "import sys\n",
    "path_to_cogwheel = '/home/zihanz/custom-waveform-model/cogwheel'\n",
    "sys.path.append(path_to_cogwheel)\n",
    "\n",
    "from cogwheel import data\n",
    "\n",
    "# load the data\n",
    "metadata = pd.read_csv(data.DATADIR/'events_metadata.csv', index_col=0)  # Chirp mass guesses\n",
    "\n",
    "# filter events with chirp mass smaller than 15\n",
    "filtered_events = metadata[(metadata['mchirp'] > 15.0) & (metadata['mchirp'] < 20.0)]\n",
    "\n",
    "#submit a job for each event\n",
    "#for event_name in filtered_events.index:\n",
    "#    subprocess.run([\"sbatch\", \"job_submit.sh\", \"PE_Run_PhenomXPHM.py\", event_name])\n",
    "\n",
    "subprocess.run([\"sbatch\", \"job_submit.sh\", \"PE_Run_PhenomD.py\", 'GW190412'])"
   ]
  },
  {
   "cell_type": "code",
   "execution_count": null,
   "id": "6245f449",
   "metadata": {},
   "outputs": [],
   "source": []
  }
 ],
 "metadata": {
  "kernelspec": {
   "display_name": "Python 3 (ipykernel)",
   "language": "python",
   "name": "python3"
  },
  "language_info": {
   "codemirror_mode": {
    "name": "ipython",
    "version": 3
   },
   "file_extension": ".py",
   "mimetype": "text/x-python",
   "name": "python",
   "nbconvert_exporter": "python",
   "pygments_lexer": "ipython3",
   "version": "3.9.0"
  }
 },
 "nbformat": 4,
 "nbformat_minor": 5
}
