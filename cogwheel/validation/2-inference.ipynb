{
 "cells": [
  {
   "cell_type": "markdown",
   "id": "c5f384c2",
   "metadata": {},
   "source": [
    "# Do injections and PE\n",
    "... in parallel. We have two options for parallelizing:\n",
    "1. Use SLURM (to submit jobs to a cluster), or\n",
    "1. Use `multiprocessing` (to use the cores of the machine this notebook is running on)."
   ]
  },
  {
   "cell_type": "code",
   "execution_count": null,
   "id": "8a1fb9e2",
   "metadata": {
    "ExecuteTime": {
     "end_time": "2023-06-07T06:48:11.988101Z",
     "start_time": "2023-06-07T06:48:08.429109Z"
    }
   },
   "outputs": [],
   "source": [
    "import os\n",
    "os.environ[\"OMP_NUM_THREADS\"] = \"1\"\n",
    "\n",
    "import sys\n",
    "sys.path.append('../..')\n",
    "\n",
    "import multiprocessing\n",
    "import pandas as pd\n",
    "import itertools\n",
    "import numpy as np\n",
    "\n",
    "from cogwheel.validation import inference\n",
    "from cogwheel.validation import config\n",
    "from cogwheel.validation import generate_injections\n",
    "\n",
    "from cogwheel import gw_plotting\n",
    "from cogwheel import gw_prior\n",
    "from cogwheel import sampling"
   ]
  },
  {
   "cell_type": "code",
   "execution_count": null,
   "id": "bd063269",
   "metadata": {
    "ExecuteTime": {
     "end_time": "2023-06-07T06:48:11.991608Z",
     "start_time": "2023-06-07T06:48:11.989484Z"
    }
   },
   "outputs": [],
   "source": [
    "injection_ids = list(\n",
    "    itertools.product(range(len(config.MCHIRP_RANGES)),\n",
    "                      range(config.N_INJECTIONS_ABOVE_THRESHOLD)))\n",
    "\n",
    "rundirs = [inference._get_rundir(i_inj_set, i_sample)\n",
    "           for i_inj_set, i_sample in injection_ids]"
   ]
  },
  {
   "cell_type": "markdown",
   "id": "3401c559",
   "metadata": {},
   "source": [
    "## Option 0: run a single one\n",
    "(Probably worth doing this first, to check for bugs)"
   ]
  },
  {
   "cell_type": "code",
   "execution_count": null,
   "id": "9047a8f8",
   "metadata": {
    "ExecuteTime": {
     "start_time": "2023-06-01T01:45:10.972Z"
    }
   },
   "outputs": [],
   "source": [
    "inference.main(rundirs[0])"
   ]
  },
  {
   "cell_type": "markdown",
   "id": "963d2298",
   "metadata": {},
   "source": [
    "## Option 1: SLURM"
   ]
  },
  {
   "cell_type": "code",
   "execution_count": null,
   "id": "22a297d0",
   "metadata": {
    "ExecuteTime": {
     "end_time": "2023-06-07T06:48:27.749275Z",
     "start_time": "2023-06-07T06:48:11.992530Z"
    }
   },
   "outputs": [],
   "source": [
    "for i_inj_set, i_sample in injection_ids[1:]:\n",
    "    inference.submit_slurm(i_inj_set, i_sample)"
   ]
  },
  {
   "cell_type": "code",
   "execution_count": null,
   "id": "2f2a7031",
   "metadata": {
    "ExecuteTime": {
     "end_time": "2023-06-07T06:49:49.603606Z",
     "start_time": "2023-06-07T06:49:49.471362Z"
    },
    "scrolled": false
   },
   "outputs": [],
   "source": [
    "!squeue --me"
   ]
  },
  {
   "cell_type": "markdown",
   "id": "15cddeda",
   "metadata": {},
   "source": [
    "## Option 2: `multiprocessing`"
   ]
  },
  {
   "cell_type": "code",
   "execution_count": null,
   "id": "29325b21",
   "metadata": {
    "ExecuteTime": {
     "start_time": "2023-06-01T05:13:15.212Z"
    },
    "scrolled": false
   },
   "outputs": [],
   "source": [
    "with multiprocessing.Pool(multiprocessing.cpu_count()) as pool:\n",
    "    pool.map(inference.main, rundirs)"
   ]
  }
 ],
 "metadata": {
  "kernelspec": {
   "display_name": "Python 3",
   "language": "python",
   "name": "python3"
  },
  "language_info": {
   "codemirror_mode": {
    "name": "ipython",
    "version": 3
   },
   "file_extension": ".py",
   "mimetype": "text/x-python",
   "name": "python",
   "nbconvert_exporter": "python",
   "pygments_lexer": "ipython3",
   "version": "3.9.7"
  }
 },
 "nbformat": 4,
 "nbformat_minor": 5
}
