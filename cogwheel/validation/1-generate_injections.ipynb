{
 "cells": [
  {
   "cell_type": "markdown",
   "id": "76b371c2",
   "metadata": {},
   "source": [
    "Make injections according to the `IASPrior` in batches of $\\mathcal{M}$, restricted to $\\langle h \\mid h \\rangle > 60$\n",
    "<div class=\"alert alert alert-block alert-warning\">\n",
    "    Eventually a lot of files will be saved inside a directory <tt>data/</tt>. If you would rather have them somewhere else (e.g. in a different partition) you can make a symlink:\n",
    "\n",
    "    ln -s <directory_where_to_save_injections> data\n",
    "</div>"
   ]
  },
  {
   "cell_type": "code",
   "execution_count": null,
   "id": "81b2d5eb",
   "metadata": {
    "ExecuteTime": {
     "end_time": "2023-06-06T20:02:07.427054Z",
     "start_time": "2023-06-06T20:02:00.935514Z"
    }
   },
   "outputs": [],
   "source": [
    "import os\n",
    "os.environ[\"OMP_NUM_THREADS\"] = \"1\"\n",
    "\n",
    "import sys\n",
    "sys.path.append('../..')\n",
    "\n",
    "import pandas as pd\n",
    "\n",
    "from cogwheel.validation import config\n",
    "from cogwheel.validation import generate_injections\n",
    "\n",
    "from cogwheel import gw_plotting"
   ]
  },
  {
   "cell_type": "code",
   "execution_count": null,
   "id": "d5f14d01",
   "metadata": {
    "ExecuteTime": {
     "end_time": "2023-06-06T20:26:45.849087Z",
     "start_time": "2023-06-06T20:02:07.430030Z"
    },
    "scrolled": false
   },
   "outputs": [],
   "source": [
    "overwrite = False  # Change this if you want\n",
    "\n",
    "for inj_dir, mchirp_range in zip(config.INJECTION_SET_DIRS, config.MCHIRP_RANGES):\n",
    "    if not overwrite and inj_dir.exists():\n",
    "        print('Skipping existing', inj_dir.as_posix())\n",
    "        continue\n",
    "\n",
    "    print(f'Generating injections with mchirp in {mchirp_range}...')\n",
    "    injections_above_threshold \\\n",
    "        = generate_injections.generate_injections_above_threshold(mchirp_range)\n",
    "\n",
    "    inj_dir.mkdir(exist_ok=overwrite)\n",
    "    injections_above_threshold.to_feather(inj_dir/config.INJECTIONS_FILENAME)"
   ]
  },
  {
   "cell_type": "code",
   "execution_count": null,
   "id": "4c006ba2",
   "metadata": {
    "ExecuteTime": {
     "end_time": "2023-06-06T20:27:34.199708Z",
     "start_time": "2023-06-06T20:26:45.853661Z"
    },
    "scrolled": false
   },
   "outputs": [],
   "source": [
    "for inj_dir, mchirp_range in zip(config.INJECTION_SET_DIRS, config.MCHIRP_RANGES):\n",
    "    injections_above_threshold = pd.read_feather(inj_dir/config.INJECTIONS_FILENAME)\n",
    "    \n",
    "    # Plot ⟨ℎ∣ℎ⟩ distribution:\n",
    "    generate_injections.test_h_h_distribution(injections_above_threshold)\n",
    "\n",
    "    # Corner plot:\n",
    "    params = [\n",
    "        'm1',\n",
    "        'm2',\n",
    "        's1z',\n",
    "        's2z',\n",
    "        's1x_n',\n",
    "        's1y_n',\n",
    "        's2x_n',\n",
    "        's2y_n',\n",
    "        'iota',\n",
    "        'ra',\n",
    "        'dec',\n",
    "        'psi',\n",
    "        'phi_ref',\n",
    "        'd_luminosity']\n",
    "\n",
    "    gw_plotting.CornerPlot(injections_above_threshold[params]).plot(\n",
    "        title=rf'$\\mathcal{{M}} \\in {mchirp_range}\\,\\rm{{M}}_\\odot$')"
   ]
  }
 ],
 "metadata": {
  "kernelspec": {
   "display_name": "Python 3",
   "language": "python",
   "name": "python3"
  },
  "language_info": {
   "codemirror_mode": {
    "name": "ipython",
    "version": 3
   },
   "file_extension": ".py",
   "mimetype": "text/x-python",
   "name": "python",
   "nbconvert_exporter": "python",
   "pygments_lexer": "ipython3",
   "version": "3.9.7"
  }
 },
 "nbformat": 4,
 "nbformat_minor": 5
}
